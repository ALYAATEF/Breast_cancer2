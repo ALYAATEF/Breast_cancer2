{
 "cells": [
  {
   "cell_type": "markdown",
   "id": "0aedf57c",
   "metadata": {},
   "source": [
    "\n",
    "###### This breast cancer databases was obtained from the University of Wisconsin Hospitals\n",
    "<br> this data has:\n",
    "<pre>\n",
    " 1. Sample code number             id number\n",
    " 2. Clump Thickness                1 - 10\n",
    " 3. Uniformity of Cell Size        1 - 10\n",
    " 4. Uniformity of Cell Shape       1 - 10\n",
    " 5. Marginal Adhesion              1 - 10\n",
    " 6. Single Epithelial Cell Size    1 - 10\n",
    " 7. Bare Nuclei                    1 - 10\n",
    " 8. Bland Chromatin                1 - 10\n",
    " 9. Normal Nucleoli                1 - 10\n",
    " 10. Mitoses                       1 - 10\n",
    " 11. Class:                        (2 for benign, 4 for malignant)\n",
    " </pre>"
   ]
  },
  {
   "cell_type": "markdown",
   "id": "f3c4c347",
   "metadata": {},
   "source": [
    "###### import packages"
   ]
  },
  {
   "cell_type": "code",
   "execution_count": 1,
   "id": "0af4f6d9",
   "metadata": {},
   "outputs": [],
   "source": [
    "import pandas as pd\n",
    "import numpy as np\n",
    "import seaborn as sns\n",
    "import matplotlib.pyplot as plt"
   ]
  },
  {
   "cell_type": "markdown",
   "id": "21867d6e",
   "metadata": {},
   "source": [
    "###### reading the dataset\n",
    "* the missing values are non standard in the \"?\" format"
   ]
  },
  {
   "cell_type": "code",
   "execution_count": 2,
   "id": "21d60562",
   "metadata": {},
   "outputs": [
    {
     "data": {
      "text/html": [
       "<div>\n",
       "<style scoped>\n",
       "    .dataframe tbody tr th:only-of-type {\n",
       "        vertical-align: middle;\n",
       "    }\n",
       "\n",
       "    .dataframe tbody tr th {\n",
       "        vertical-align: top;\n",
       "    }\n",
       "\n",
       "    .dataframe thead th {\n",
       "        text-align: right;\n",
       "    }\n",
       "</style>\n",
       "<table border=\"1\" class=\"dataframe\">\n",
       "  <thead>\n",
       "    <tr style=\"text-align: right;\">\n",
       "      <th></th>\n",
       "      <th>0</th>\n",
       "      <th>1</th>\n",
       "      <th>2</th>\n",
       "      <th>3</th>\n",
       "      <th>4</th>\n",
       "      <th>5</th>\n",
       "      <th>6</th>\n",
       "      <th>7</th>\n",
       "      <th>8</th>\n",
       "      <th>9</th>\n",
       "      <th>10</th>\n",
       "    </tr>\n",
       "  </thead>\n",
       "  <tbody>\n",
       "    <tr>\n",
       "      <th>0</th>\n",
       "      <td>1000025</td>\n",
       "      <td>5</td>\n",
       "      <td>1</td>\n",
       "      <td>1</td>\n",
       "      <td>1</td>\n",
       "      <td>2</td>\n",
       "      <td>1.0</td>\n",
       "      <td>3</td>\n",
       "      <td>1</td>\n",
       "      <td>1</td>\n",
       "      <td>2</td>\n",
       "    </tr>\n",
       "    <tr>\n",
       "      <th>1</th>\n",
       "      <td>1002945</td>\n",
       "      <td>5</td>\n",
       "      <td>4</td>\n",
       "      <td>4</td>\n",
       "      <td>5</td>\n",
       "      <td>7</td>\n",
       "      <td>10.0</td>\n",
       "      <td>3</td>\n",
       "      <td>2</td>\n",
       "      <td>1</td>\n",
       "      <td>2</td>\n",
       "    </tr>\n",
       "    <tr>\n",
       "      <th>2</th>\n",
       "      <td>1015425</td>\n",
       "      <td>3</td>\n",
       "      <td>1</td>\n",
       "      <td>1</td>\n",
       "      <td>1</td>\n",
       "      <td>2</td>\n",
       "      <td>2.0</td>\n",
       "      <td>3</td>\n",
       "      <td>1</td>\n",
       "      <td>1</td>\n",
       "      <td>2</td>\n",
       "    </tr>\n",
       "    <tr>\n",
       "      <th>3</th>\n",
       "      <td>1016277</td>\n",
       "      <td>6</td>\n",
       "      <td>8</td>\n",
       "      <td>8</td>\n",
       "      <td>1</td>\n",
       "      <td>3</td>\n",
       "      <td>4.0</td>\n",
       "      <td>3</td>\n",
       "      <td>7</td>\n",
       "      <td>1</td>\n",
       "      <td>2</td>\n",
       "    </tr>\n",
       "    <tr>\n",
       "      <th>4</th>\n",
       "      <td>1017023</td>\n",
       "      <td>4</td>\n",
       "      <td>1</td>\n",
       "      <td>1</td>\n",
       "      <td>3</td>\n",
       "      <td>2</td>\n",
       "      <td>1.0</td>\n",
       "      <td>3</td>\n",
       "      <td>1</td>\n",
       "      <td>1</td>\n",
       "      <td>2</td>\n",
       "    </tr>\n",
       "  </tbody>\n",
       "</table>\n",
       "</div>"
      ],
      "text/plain": [
       "        0   1   2   3   4   5     6   7   8   9   10\n",
       "0  1000025   5   1   1   1   2   1.0   3   1   1   2\n",
       "1  1002945   5   4   4   5   7  10.0   3   2   1   2\n",
       "2  1015425   3   1   1   1   2   2.0   3   1   1   2\n",
       "3  1016277   6   8   8   1   3   4.0   3   7   1   2\n",
       "4  1017023   4   1   1   3   2   1.0   3   1   1   2"
      ]
     },
     "execution_count": 2,
     "metadata": {},
     "output_type": "execute_result"
    }
   ],
   "source": [
    "# replacing all the \"?\"s with NAN\n",
    "data=pd.read_csv(\"breast-cancer-wisconsin.data\",na_values=[\"?\"],header=None)\n",
    "data.head()"
   ]
  },
  {
   "cell_type": "markdown",
   "id": "939a4b3d",
   "metadata": {},
   "source": [
    "###### time to explore"
   ]
  },
  {
   "cell_type": "code",
   "execution_count": 3,
   "id": "d19d24ce",
   "metadata": {},
   "outputs": [
    {
     "name": "stdout",
     "output_type": "stream",
     "text": [
      "<class 'pandas.core.frame.DataFrame'>\n",
      "RangeIndex: 699 entries, 0 to 698\n",
      "Data columns (total 11 columns):\n",
      " #   Column  Non-Null Count  Dtype  \n",
      "---  ------  --------------  -----  \n",
      " 0   0       699 non-null    int64  \n",
      " 1   1       699 non-null    int64  \n",
      " 2   2       699 non-null    int64  \n",
      " 3   3       699 non-null    int64  \n",
      " 4   4       699 non-null    int64  \n",
      " 5   5       699 non-null    int64  \n",
      " 6   6       683 non-null    float64\n",
      " 7   7       699 non-null    int64  \n",
      " 8   8       699 non-null    int64  \n",
      " 9   9       699 non-null    int64  \n",
      " 10  10      699 non-null    int64  \n",
      "dtypes: float64(1), int64(10)\n",
      "memory usage: 60.2 KB\n"
     ]
    }
   ],
   "source": [
    "data.info()"
   ]
  },
  {
   "cell_type": "code",
   "execution_count": 4,
   "id": "2e9c8606",
   "metadata": {
    "scrolled": true
   },
   "outputs": [
    {
     "data": {
      "text/plain": [
       "0      0\n",
       "1      0\n",
       "2      0\n",
       "3      0\n",
       "4      0\n",
       "5      0\n",
       "6     16\n",
       "7      0\n",
       "8      0\n",
       "9      0\n",
       "10     0\n",
       "dtype: int64"
      ]
     },
     "execution_count": 4,
     "metadata": {},
     "output_type": "execute_result"
    }
   ],
   "source": [
    "# counting the missing values\n",
    "data.isna().sum()"
   ]
  },
  {
   "cell_type": "code",
   "execution_count": 5,
   "id": "a67e0325",
   "metadata": {},
   "outputs": [
    {
     "data": {
      "text/plain": [
       "8"
      ]
     },
     "execution_count": 5,
     "metadata": {},
     "output_type": "execute_result"
    }
   ],
   "source": [
    "# counting duplicates\n",
    "data.duplicated().sum()"
   ]
  },
  {
   "cell_type": "markdown",
   "id": "d75e7463",
   "metadata": {},
   "source": [
    "###### summary:\n",
    "* the above data has 699 rows and 11 columns\n",
    "* data has 11 columns all of them are integer except for the 6th column which is float\n",
    "* data has 8 duplicates\n",
    "* data has 16 missing values all of them are in the 6th column\n",
    "* data has no empty rows"
   ]
  },
  {
   "cell_type": "markdown",
   "id": "2c2c8294",
   "metadata": {},
   "source": [
    "#### cleaning"
   ]
  },
  {
   "cell_type": "code",
   "execution_count": 6,
   "id": "465f7b23",
   "metadata": {},
   "outputs": [
    {
     "data": {
      "text/html": [
       "<div>\n",
       "<style scoped>\n",
       "    .dataframe tbody tr th:only-of-type {\n",
       "        vertical-align: middle;\n",
       "    }\n",
       "\n",
       "    .dataframe tbody tr th {\n",
       "        vertical-align: top;\n",
       "    }\n",
       "\n",
       "    .dataframe thead th {\n",
       "        text-align: right;\n",
       "    }\n",
       "</style>\n",
       "<table border=\"1\" class=\"dataframe\">\n",
       "  <thead>\n",
       "    <tr style=\"text-align: right;\">\n",
       "      <th></th>\n",
       "      <th>id_number</th>\n",
       "      <th>Clump Thickness</th>\n",
       "      <th>Uniformity of Cell Size</th>\n",
       "      <th>Uniformity of Cell Shape</th>\n",
       "      <th>Marginal Adhesion</th>\n",
       "      <th>Single Epithelial Cell Size</th>\n",
       "      <th>Bare Nuclei</th>\n",
       "      <th>Bland Chromatin</th>\n",
       "      <th>Normal Nucleoli</th>\n",
       "      <th>Mitoses</th>\n",
       "      <th>Class</th>\n",
       "    </tr>\n",
       "  </thead>\n",
       "  <tbody>\n",
       "    <tr>\n",
       "      <th>0</th>\n",
       "      <td>1000025</td>\n",
       "      <td>5</td>\n",
       "      <td>1</td>\n",
       "      <td>1</td>\n",
       "      <td>1</td>\n",
       "      <td>2</td>\n",
       "      <td>1.0</td>\n",
       "      <td>3</td>\n",
       "      <td>1</td>\n",
       "      <td>1</td>\n",
       "      <td>2</td>\n",
       "    </tr>\n",
       "    <tr>\n",
       "      <th>1</th>\n",
       "      <td>1002945</td>\n",
       "      <td>5</td>\n",
       "      <td>4</td>\n",
       "      <td>4</td>\n",
       "      <td>5</td>\n",
       "      <td>7</td>\n",
       "      <td>10.0</td>\n",
       "      <td>3</td>\n",
       "      <td>2</td>\n",
       "      <td>1</td>\n",
       "      <td>2</td>\n",
       "    </tr>\n",
       "    <tr>\n",
       "      <th>2</th>\n",
       "      <td>1015425</td>\n",
       "      <td>3</td>\n",
       "      <td>1</td>\n",
       "      <td>1</td>\n",
       "      <td>1</td>\n",
       "      <td>2</td>\n",
       "      <td>2.0</td>\n",
       "      <td>3</td>\n",
       "      <td>1</td>\n",
       "      <td>1</td>\n",
       "      <td>2</td>\n",
       "    </tr>\n",
       "    <tr>\n",
       "      <th>3</th>\n",
       "      <td>1016277</td>\n",
       "      <td>6</td>\n",
       "      <td>8</td>\n",
       "      <td>8</td>\n",
       "      <td>1</td>\n",
       "      <td>3</td>\n",
       "      <td>4.0</td>\n",
       "      <td>3</td>\n",
       "      <td>7</td>\n",
       "      <td>1</td>\n",
       "      <td>2</td>\n",
       "    </tr>\n",
       "    <tr>\n",
       "      <th>4</th>\n",
       "      <td>1017023</td>\n",
       "      <td>4</td>\n",
       "      <td>1</td>\n",
       "      <td>1</td>\n",
       "      <td>3</td>\n",
       "      <td>2</td>\n",
       "      <td>1.0</td>\n",
       "      <td>3</td>\n",
       "      <td>1</td>\n",
       "      <td>1</td>\n",
       "      <td>2</td>\n",
       "    </tr>\n",
       "  </tbody>\n",
       "</table>\n",
       "</div>"
      ],
      "text/plain": [
       "   id_number  Clump Thickness  Uniformity of Cell Size  \\\n",
       "0    1000025                5                        1   \n",
       "1    1002945                5                        4   \n",
       "2    1015425                3                        1   \n",
       "3    1016277                6                        8   \n",
       "4    1017023                4                        1   \n",
       "\n",
       "   Uniformity of Cell Shape  Marginal Adhesion  Single Epithelial Cell Size  \\\n",
       "0                         1                  1                            2   \n",
       "1                         4                  5                            7   \n",
       "2                         1                  1                            2   \n",
       "3                         8                  1                            3   \n",
       "4                         1                  3                            2   \n",
       "\n",
       "   Bare Nuclei  Bland Chromatin  Normal Nucleoli  Mitoses  Class  \n",
       "0          1.0                3                1        1      2  \n",
       "1         10.0                3                2        1      2  \n",
       "2          2.0                3                1        1      2  \n",
       "3          4.0                3                7        1      2  \n",
       "4          1.0                3                1        1      2  "
      ]
     },
     "execution_count": 6,
     "metadata": {},
     "output_type": "execute_result"
    }
   ],
   "source": [
    "# renaming columns for easier access\n",
    "data.rename(columns={0:\"id_number\",1:\"Clump Thickness\",2:\"Uniformity of Cell Size\",3:\"Uniformity of Cell Shape\",\n",
    "                     4:\"Marginal Adhesion\",5:\"Single Epithelial Cell Size\",6:\"Bare Nuclei\",7:\"Bland Chromatin\",\n",
    "                     8:\"Normal Nucleoli\",9:\"Mitoses\",10:\"Class\"},inplace=True)\n",
    "data.head()"
   ]
  },
  {
   "cell_type": "markdown",
   "id": "8bc9e7cb",
   "metadata": {},
   "source": [
    "###### \"Bare Nuclei\t\" column"
   ]
  },
  {
   "cell_type": "code",
   "execution_count": 7,
   "id": "78e70ffd",
   "metadata": {},
   "outputs": [
    {
     "data": {
      "text/plain": [
       "<seaborn.axisgrid.FacetGrid at 0x18afc1f8160>"
      ]
     },
     "execution_count": 7,
     "metadata": {},
     "output_type": "execute_result"
    },
    {
     "data": {
      "image/png": "[encoded data removed]",
      "text/plain": [
       "<Figure size 360x360 with 1 Axes>"
      ]
     },
     "metadata": {
      "needs_background": "light"
     },
     "output_type": "display_data"
    }
   ],
   "source": [
    "# the column is bimodally distributed\n",
    "sns.displot(data['Bare Nuclei'],kde=True)"
   ]
  },
  {
   "cell_type": "code",
   "execution_count": 8,
   "id": "8d6191c9",
   "metadata": {},
   "outputs": [
    {
     "data": {
      "text/plain": [
       "<AxesSubplot:xlabel='Bare Nuclei', ylabel='Count'>"
      ]
     },
     "execution_count": 8,
     "metadata": {},
     "output_type": "execute_result"
    },
    {
     "data": {
      "image/png": "[encoded data removed]",
      "text/plain": [
       "<Figure size 432x288 with 1 Axes>"
      ]
     },
     "metadata": {
      "needs_background": "light"
     },
     "output_type": "display_data"
    }
   ],
   "source": [
    "# the data here is grouped\n",
    "sns.histplot(data=data, x=\"Bare Nuclei\",hue=\"Class\")"
   ]
  },
  {
   "cell_type": "code",
   "execution_count": 9,
   "id": "638576b9",
   "metadata": {},
   "outputs": [
    {
     "data": {
      "text/html": [
       "<div>\n",
       "<style scoped>\n",
       "    .dataframe tbody tr th:only-of-type {\n",
       "        vertical-align: middle;\n",
       "    }\n",
       "\n",
       "    .dataframe tbody tr th {\n",
       "        vertical-align: top;\n",
       "    }\n",
       "\n",
       "    .dataframe thead th {\n",
       "        text-align: right;\n",
       "    }\n",
       "</style>\n",
       "<table border=\"1\" class=\"dataframe\">\n",
       "  <thead>\n",
       "    <tr style=\"text-align: right;\">\n",
       "      <th></th>\n",
       "      <th>Bare Nuclei</th>\n",
       "    </tr>\n",
       "    <tr>\n",
       "      <th>Class</th>\n",
       "      <th></th>\n",
       "    </tr>\n",
       "  </thead>\n",
       "  <tbody>\n",
       "    <tr>\n",
       "      <th>2</th>\n",
       "      <td>1.0</td>\n",
       "    </tr>\n",
       "    <tr>\n",
       "      <th>4</th>\n",
       "      <td>10.0</td>\n",
       "    </tr>\n",
       "  </tbody>\n",
       "</table>\n",
       "</div>"
      ],
      "text/plain": [
       "       Bare Nuclei\n",
       "Class             \n",
       "2              1.0\n",
       "4             10.0"
      ]
     },
     "execution_count": 9,
     "metadata": {},
     "output_type": "execute_result"
    }
   ],
   "source": [
    "# finding out each category's median\n",
    "data.groupby(\"Class\").agg({\"Bare Nuclei\":\"median\"})"
   ]
  },
  {
   "cell_type": "code",
   "execution_count": 10,
   "id": "e24184e0",
   "metadata": {},
   "outputs": [],
   "source": [
    "# replacing the missing values of each category with its median\n",
    "data[\"Bare Nuclei\"].fillna(data.groupby(\"Class\")[\"Bare Nuclei\"].transform(\"median\"), inplace=True)"
   ]
  },
  {
   "cell_type": "code",
   "execution_count": 11,
   "id": "54ec5203",
   "metadata": {},
   "outputs": [],
   "source": [
    "# changing the data type to integer\n",
    "data[\"Bare Nuclei\"]=data[\"Bare Nuclei\"].astype(\"int\")"
   ]
  },
  {
   "cell_type": "code",
   "execution_count": 12,
   "id": "8c7995e6",
   "metadata": {},
   "outputs": [
    {
     "data": {
      "text/plain": [
       "id_number                      0\n",
       "Clump Thickness                0\n",
       "Uniformity of Cell Size        0\n",
       "Uniformity of Cell Shape       0\n",
       "Marginal Adhesion              0\n",
       "Single Epithelial Cell Size    0\n",
       "Bare Nuclei                    0\n",
       "Bland Chromatin                0\n",
       "Normal Nucleoli                0\n",
       "Mitoses                        0\n",
       "Class                          0\n",
       "dtype: int64"
      ]
     },
     "execution_count": 12,
     "metadata": {},
     "output_type": "execute_result"
    }
   ],
   "source": [
    "# no more missing vales\n",
    "data.isna().sum()"
   ]
  },
  {
   "cell_type": "markdown",
   "id": "95a33307",
   "metadata": {},
   "source": [
    "###### dropping all duplicates"
   ]
  },
  {
   "cell_type": "code",
   "execution_count": 13,
   "id": "0d80e58a",
   "metadata": {},
   "outputs": [],
   "source": [
    "data=data.drop_duplicates(ignore_index=True)"
   ]
  },
  {
   "cell_type": "markdown",
   "id": "942974a7",
   "metadata": {},
   "source": [
    "###### check"
   ]
  },
  {
   "cell_type": "code",
   "execution_count": 14,
   "id": "7f95b035",
   "metadata": {},
   "outputs": [
    {
     "name": "stdout",
     "output_type": "stream",
     "text": [
      "<class 'pandas.core.frame.DataFrame'>\n",
      "RangeIndex: 690 entries, 0 to 689\n",
      "Data columns (total 11 columns):\n",
      " #   Column                       Non-Null Count  Dtype\n",
      "---  ------                       --------------  -----\n",
      " 0   id_number                    690 non-null    int64\n",
      " 1   Clump Thickness              690 non-null    int64\n",
      " 2   Uniformity of Cell Size      690 non-null    int64\n",
      " 3   Uniformity of Cell Shape     690 non-null    int64\n",
      " 4   Marginal Adhesion            690 non-null    int64\n",
      " 5   Single Epithelial Cell Size  690 non-null    int64\n",
      " 6   Bare Nuclei                  690 non-null    int32\n",
      " 7   Bland Chromatin              690 non-null    int64\n",
      " 8   Normal Nucleoli              690 non-null    int64\n",
      " 9   Mitoses                      690 non-null    int64\n",
      " 10  Class                        690 non-null    int64\n",
      "dtypes: int32(1), int64(10)\n",
      "memory usage: 56.7 KB\n"
     ]
    }
   ],
   "source": [
    "# the columns have the right data type with no missing vallues\n",
    "data.info()"
   ]
  },
  {
   "cell_type": "code",
   "execution_count": 15,
   "id": "712dfc37",
   "metadata": {},
   "outputs": [
    {
     "data": {
      "text/plain": [
       "False"
      ]
     },
     "execution_count": 15,
     "metadata": {},
     "output_type": "execute_result"
    }
   ],
   "source": [
    "# no duplicates\n",
    "data.duplicated().any()"
   ]
  },
  {
   "cell_type": "code",
   "execution_count": 16,
   "id": "fac75d64",
   "metadata": {},
   "outputs": [
    {
     "data": {
      "text/plain": [
       "(690, 11)"
      ]
     },
     "execution_count": 16,
     "metadata": {},
     "output_type": "execute_result"
    }
   ],
   "source": [
    "data.shape"
   ]
  },
  {
   "cell_type": "markdown",
   "id": "63eaf00b",
   "metadata": {},
   "source": [
    "###### now the cleaning phase is done"
   ]
  },
  {
   "cell_type": "markdown",
   "id": "22c8a0d7",
   "metadata": {},
   "source": [
    "###### summary:\n",
    "* we filled the NANs with the appropriate match.\n",
    "* we dropped the duplicated rows.\n",
    "* the data now has 690 rows and 11 columns\n",
    "* we lost about 9 columns while cleaning."
   ]
  },
  {
   "cell_type": "markdown",
   "id": "0c2f23b1",
   "metadata": {},
   "source": [
    "###### finding out the relation between each column and the \"calss\" column"
   ]
  },
  {
   "cell_type": "code",
   "execution_count": 17,
   "id": "a227a14d",
   "metadata": {},
   "outputs": [
    {
     "data": {
      "text/plain": [
       "<AxesSubplot:xlabel='Class', ylabel='Clump Thickness'>"
      ]
     },
     "execution_count": 17,
     "metadata": {},
     "output_type": "execute_result"
    },
    {
     "data": {
      "image/png": "[encoded data removed]",
      "text/plain": [
       "<Figure size 432x288 with 1 Axes>"
      ]
     },
     "metadata": {
      "needs_background": "light"
     },
     "output_type": "display_data"
    }
   ],
   "source": [
    "sns.boxplot(data=data,x=\"Class\",y=\"Clump Thickness\")"
   ]
  },
  {
   "cell_type": "code",
   "execution_count": 18,
   "id": "4f4b16a2",
   "metadata": {},
   "outputs": [
    {
     "data": {
      "text/plain": [
       "<AxesSubplot:xlabel='Class', ylabel='Uniformity of Cell Size'>"
      ]
     },
     "execution_count": 18,
     "metadata": {},
     "output_type": "execute_result"
    },
    {
     "data": {
      "image/png": "[encoded data removed]",
      "text/plain": [
       "<Figure size 432x288 with 1 Axes>"
      ]
     },
     "metadata": {
      "needs_background": "light"
     },
     "output_type": "display_data"
    }
   ],
   "source": [
    "sns.boxplot(data=data,x=\"Class\",y=\"Uniformity of Cell Size\")"
   ]
  },
  {
   "cell_type": "code",
   "execution_count": 19,
   "id": "4b494770",
   "metadata": {},
   "outputs": [
    {
     "data": {
      "text/plain": [
       "<AxesSubplot:xlabel='Class', ylabel='Uniformity of Cell Shape'>"
      ]
     },
     "execution_count": 19,
     "metadata": {},
     "output_type": "execute_result"
    },
    {
     "data": {
      "image/png": "[encoded data removed]",
      "text/plain": [
       "<Figure size 432x288 with 1 Axes>"
      ]
     },
     "metadata": {
      "needs_background": "light"
     },
     "output_type": "display_data"
    }
   ],
   "source": [
    "sns.boxplot(data=data,x=\"Class\",y=\"Uniformity of Cell Shape\")"
   ]
  },
  {
   "cell_type": "code",
   "execution_count": 20,
   "id": "fbae0142",
   "metadata": {},
   "outputs": [
    {
     "data": {
      "text/plain": [
       "<AxesSubplot:xlabel='Class', ylabel='Marginal Adhesion'>"
      ]
     },
     "execution_count": 20,
     "metadata": {},
     "output_type": "execute_result"
    },
    {
     "data": {
      "image/png": "[encoded data removed]",
      "text/plain": [
       "<Figure size 432x288 with 1 Axes>"
      ]
     },
     "metadata": {
      "needs_background": "light"
     },
     "output_type": "display_data"
    }
   ],
   "source": [
    "sns.boxplot(data=data,x=\"Class\",y=\"Marginal Adhesion\")"
   ]
  },
  {
   "cell_type": "code",
   "execution_count": 21,
   "id": "f89b1030",
   "metadata": {},
   "outputs": [
    {
     "data": {
      "text/plain": [
       "<AxesSubplot:xlabel='Class', ylabel='Single Epithelial Cell Size'>"
      ]
     },
     "execution_count": 21,
     "metadata": {},
     "output_type": "execute_result"
    },
    {
     "data": {
      "image/png": "[encoded data removed]",
      "text/plain": [
       "<Figure size 432x288 with 1 Axes>"
      ]
     },
     "metadata": {
      "needs_background": "light"
     },
     "output_type": "display_data"
    }
   ],
   "source": [
    "sns.boxplot(data=data,x=\"Class\",y=\"Single Epithelial Cell Size\")"
   ]
  },
  {
   "cell_type": "code",
   "execution_count": 22,
   "id": "d46a023e",
   "metadata": {},
   "outputs": [
    {
     "data": {
      "text/plain": [
       "<AxesSubplot:xlabel='Class', ylabel='Bare Nuclei'>"
      ]
     },
     "execution_count": 22,
     "metadata": {},
     "output_type": "execute_result"
    },
    {
     "data": {
      "image/png": "[encoded data removed]",
      "text/plain": [
       "<Figure size 432x288 with 1 Axes>"
      ]
     },
     "metadata": {
      "needs_background": "light"
     },
     "output_type": "display_data"
    }
   ],
   "source": [
    "sns.boxplot(data=data,x=\"Class\",y=\"Bare Nuclei\")"
   ]
  },
  {
   "cell_type": "code",
   "execution_count": 23,
   "id": "371c6171",
   "metadata": {},
   "outputs": [
    {
     "data": {
      "text/plain": [
       "<AxesSubplot:xlabel='Class', ylabel='Bland Chromatin'>"
      ]
     },
     "execution_count": 23,
     "metadata": {},
     "output_type": "execute_result"
    },
    {
     "data": {
      "image/png": "[encoded data removed]",
      "text/plain": [
       "<Figure size 432x288 with 1 Axes>"
      ]
     },
     "metadata": {
      "needs_background": "light"
     },
     "output_type": "display_data"
    }
   ],
   "source": [
    "sns.boxplot(data=data,x=\"Class\",y=\"Bland Chromatin\")"
   ]
  },
  {
   "cell_type": "code",
   "execution_count": 24,
   "id": "4285cff2",
   "metadata": {},
   "outputs": [
    {
     "data": {
      "text/plain": [
       "<AxesSubplot:xlabel='Class', ylabel='Normal Nucleoli'>"
      ]
     },
     "execution_count": 24,
     "metadata": {},
     "output_type": "execute_result"
    },
    {
     "data": {
      "image/png": "[encoded data removed]",
      "text/plain": [
       "<Figure size 432x288 with 1 Axes>"
      ]
     },
     "metadata": {
      "needs_background": "light"
     },
     "output_type": "display_data"
    }
   ],
   "source": [
    "sns.boxplot(data=data,x=\"Class\",y=\"Normal Nucleoli\")"
   ]
  },
  {
   "cell_type": "code",
   "execution_count": 25,
   "id": "9c96b34f",
   "metadata": {},
   "outputs": [
    {
     "data": {
      "text/plain": [
       "<AxesSubplot:xlabel='Class', ylabel='Mitoses'>"
      ]
     },
     "execution_count": 25,
     "metadata": {},
     "output_type": "execute_result"
    },
    {
     "data": {
      "image/png": "[encoded data removed]",
      "text/plain": [
       "<Figure size 432x288 with 1 Axes>"
      ]
     },
     "metadata": {
      "needs_background": "light"
     },
     "output_type": "display_data"
    }
   ],
   "source": [
    "sns.boxplot(data=data,x=\"Class\",y=\"Mitoses\")"
   ]
  },
  {
   "cell_type": "code",
   "execution_count": 26,
   "id": "47c18438",
   "metadata": {},
   "outputs": [
    {
     "data": {
      "text/plain": [
       "<AxesSubplot:xlabel='Mitoses', ylabel='count'>"
      ]
     },
     "execution_count": 26,
     "metadata": {},
     "output_type": "execute_result"
    },
    {
     "data": {
      "image/png": "[encoded data removed]",
      "text/plain": [
       "<Figure size 432x288 with 1 Axes>"
      ]
     },
     "metadata": {
      "needs_background": "light"
     },
     "output_type": "display_data"
    }
   ],
   "source": [
    "# a not predictive feature\n",
    "sns.countplot(data=data,x=\"Mitoses\",hue=\"Class\")"
   ]
  },
  {
   "cell_type": "markdown",
   "id": "765e9bcf",
   "metadata": {},
   "source": [
    "###### A larger value of these parameters tends to show a correlation with malignant tumors."
   ]
  },
  {
   "cell_type": "markdown",
   "id": "beff48c7",
   "metadata": {},
   "source": [
    "###### now let's start the modelling phase"
   ]
  },
  {
   "cell_type": "code",
   "execution_count": 27,
   "id": "a55816a3",
   "metadata": {},
   "outputs": [],
   "source": [
    "# dropping irrelevant columns\n",
    "data=data.drop([\"id_number\",\"Mitoses\"],axis=1)"
   ]
  },
  {
   "cell_type": "markdown",
   "id": "5a6bc48e",
   "metadata": {},
   "source": [
    "###### splitting the data "
   ]
  },
  {
   "cell_type": "code",
   "execution_count": 28,
   "id": "b903e1f6",
   "metadata": {},
   "outputs": [],
   "source": [
    "# Import train_test_split function\n",
    "from sklearn.model_selection import train_test_split\n",
    "\n",
    "# Split dataset into training set and test set\n",
    "X_train, X_test, y_train, y_test = train_test_split(data.drop([\"Class\"],axis=1), data[\"Class\"], test_size=0.3)\n",
    "# 70% training and 30% test"
   ]
  },
  {
   "cell_type": "markdown",
   "id": "caeff627",
   "metadata": {},
   "source": [
    "###### Generating Model"
   ]
  },
  {
   "cell_type": "code",
   "execution_count": 29,
   "id": "80108ffa",
   "metadata": {},
   "outputs": [],
   "source": [
    "#Import knearest neighbors Classifier model\n",
    "from sklearn.neighbors import KNeighborsClassifier\n",
    "\n",
    "#Create KNN Classifier\n",
    "knn = KNeighborsClassifier(n_neighbors=7)\n",
    "\n",
    "#Train the model using the training sets\n",
    "knn.fit(X_train, y_train)\n",
    "\n",
    "#Predict the response for test dataset\n",
    "y_pred = knn.predict(X_test)"
   ]
  },
  {
   "cell_type": "markdown",
   "id": "9b5cd3bf",
   "metadata": {},
   "source": [
    "###### model evaluation"
   ]
  },
  {
   "cell_type": "code",
   "execution_count": 30,
   "id": "a872b315",
   "metadata": {},
   "outputs": [
    {
     "name": "stdout",
     "output_type": "stream",
     "text": [
      "Accuracy: 0.961352657004831\n"
     ]
    }
   ],
   "source": [
    "#Import scikit-learn metrics module for accuracy calculation\n",
    "from sklearn import metrics\n",
    "# Model Accuracy, how often is the classifier correct?\n",
    "print(\"Accuracy:\",metrics.accuracy_score(y_test, y_pred))"
   ]
  },
  {
   "cell_type": "code",
   "execution_count": null,
   "id": "268f61a6",
   "metadata": {},
   "outputs": [],
   "source": []
  }
 ],
 "metadata": {
  "kernelspec": {
   "display_name": "Python 3 (ipykernel)",
   "language": "python",
   "name": "python3"
  },
  "language_info": {
   "codemirror_mode": {
    "name": "ipython",
    "version": 3
   },
   "file_extension": ".py",
   "mimetype": "text/x-python",
   "name": "python",
   "nbconvert_exporter": "python",
   "pygments_lexer": "ipython3",
   "version": "3.9.7"
  }
 },
 "nbformat": 4,
 "nbformat_minor": 5
}
